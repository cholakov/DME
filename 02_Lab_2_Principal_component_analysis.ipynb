{
 "cells": [
  {
   "cell_type": "markdown",
   "metadata": {},
   "source": [
    "# Data Mining and Exploration [INFR11007]"
   ]
  },
  {
   "cell_type": "markdown",
   "metadata": {},
   "source": [
    "Useful links:\n",
    "    * https://stats.stackexchange.com/questions/134282/relationship-between-svd-and-pca-how-to-use-svd-to-perform-pca"
   ]
  },
  {
   "cell_type": "markdown",
   "metadata": {},
   "source": [
    "# Lab 2: Principal component analysis (PCA)"
   ]
  },
  {
   "cell_type": "markdown",
   "metadata": {},
   "source": [
    "[Principal component analysis (PCA)](https://en.wikipedia.org/wiki/Principal_component_analysis) is one of the most used techniques for exploratory data analysis and preprocessing.\n",
    "\n",
    "We start this lab off by introducing some fundamental concepts regarding covariance matrices. We then look at several methods for identifying the principal component (PC) directions and scores for an artificial dataset. "
   ]
  },
  {
   "cell_type": "markdown",
   "metadata": {},
   "source": [
    "Let's start by importing the packages we will need throughout the lab."
   ]
  },
  {
   "cell_type": "code",
   "execution_count": 2,
   "metadata": {
    "scrolled": true
   },
   "outputs": [],
   "source": [
    "from __future__ import print_function, division\n",
    "import numpy as np\n",
    "from matplotlib import pyplot as plt\n",
    "import seaborn as sns\n",
    "from sklearn.decomposition import PCA\n",
    "%matplotlib inline"
   ]
  },
  {
   "cell_type": "markdown",
   "metadata": {},
   "source": [
    "## Covariance matrices\n",
    "Covariance matrices are by definition [symmetric positive semi-definite](https://en.wikipedia.org/wiki/Positive-definite_matrix#Positive-semidefinite). One property of positive semi-definite matrices is that their eigenvalues are all non-negative. You are provided with the function  `generate_spsd_matrix()` which generates a random symmetric positive semi-definite matrix. The `random_seed` parameter can be used to set the numpy random seed in order to ensure reproducible results."
   ]
  },
  {
   "cell_type": "code",
   "execution_count": 3,
   "metadata": {
    "scrolled": true
   },
   "outputs": [],
   "source": [
    "def generate_spsd_matrix(d, random_seed=None):\n",
    "    \"\"\"Reproducible random generation of \n",
    "    symmetric positive semi-definite matrices. \n",
    "    \n",
    "    Parameters\n",
    "    ----------\n",
    "    d : integer\n",
    "        Number of dimensions.\n",
    "    \n",
    "    random_seed : integer\n",
    "        Random seed number.\n",
    "        \n",
    "    Returns \n",
    "    ----------\n",
    "    A : ndarray, shape (n,n)\n",
    "        Symmetric positive definite matrix.\n",
    "    \n",
    "    \"\"\"\n",
    "    \n",
    "    if random_seed is not None:\n",
    "        np.random.seed(random_seed)\n",
    "    A = np.random.randn(d,d)\n",
    "    return np.dot(A.T, A)"
   ]
  },
  {
   "cell_type": "markdown",
   "metadata": {},
   "source": [
    "### ========== Question 1 ==========\n",
    "\n",
    "Write a function which checks if a matrix is positive semi-definite. \n",
    "\n",
    "Generate a random 10 x 10 matrix by using the `generate_spd_matrix()` function and double-check that it is positive semi-definite by using the function you just wrote.\n",
    "\n",
    "*Hint: you might find the [`numpy.linalg.eigh()`](https://docs.scipy.org/doc/numpy/reference/generated/numpy.linalg.eigh.html) function useful.*"
   ]
  },
  {
   "cell_type": "code",
   "execution_count": 4,
   "metadata": {
    "scrolled": true
   },
   "outputs": [
    {
     "name": "stdout",
     "output_type": "stream",
     "text": [
      "Yes, matrix is positive semi-definite.\n"
     ]
    }
   ],
   "source": [
    "def is_psd(spsd):\n",
    "    \"\"\" \n",
    "    Checks if a matrix is positive semi-definite.\n",
    "    \n",
    "    \"\"\"\n",
    "    smallest = np.linalg.eigh(spsd)[0][0] # select the first eigenvalue\n",
    "                                          # eigenvalues are ordered ascendingly\n",
    "        \n",
    "    if np.linalg.eigh(spsd)[0][0] >= 0:\n",
    "        print(\"Yes, matrix is positive semi-definite.\")\n",
    "    else:\n",
    "        print(\"No, matrix is NOT positive semi-definite.\")\n",
    "\n",
    "\n",
    "spsd_10 = generate_spsd_matrix(10)\n",
    "is_psd(spsd_10)"
   ]
  },
  {
   "cell_type": "markdown",
   "metadata": {},
   "source": [
    "## Sampling data with a given covariance matrix\n",
    "### Covariance matrix eigendecomposition\n",
    "\n",
    "Suppose that you want to sample (i.e. generate) some data points from a *multivariate normal distribution* with known mean vector and covariance matrix. We will assume that we have access to the tool required to sample from a standard univariate normal distribution, that is, one with zero mean and unit variance (all you need for that is just the cumulative function of the normal distribution). \n",
    "\n",
    "We know that if a univariate gaussian random variable $x$ has zero mean and unit variance, then $y = \\sigma x + \\mu$ has mean $\\mu$ and variance $\\sigma^2$ . Therefore, we can use this property to sample from an arbitrary univariate normal distribution with mean $\\mu$ and variance $\\sigma^2$.\n",
    "\n",
    "By repeating the process described above $d$ times, we can sample from a $d$-dimensional normal distribution with an arbitrary mean vector and diagonal covariance matrix. But, how can we sample from a multivariate normal distribution with given covariance matrix $\\mathbf{C}$? The answer is through decomposing the covariance matrix. One such method is the [eigen (or spectral) decomposition](https://en.wikipedia.org/wiki/Eigendecomposition_of_a_matrix) which, for a real symmetric matrix (such as covariance matrices), takes the following form:\n",
    "$$\\mathbf{C} = \\mathbf{U} \\mathbf{\\Lambda} \\mathbf{U}^T$$\n",
    "where $\\mathbf{U}$ is an orthogonal matrix containing the (right) eigenvectors of $\\mathbf{C}$ and $\\mathbf{\\Lambda}$ is a diagonal matrix whose entries are the eigenvalues of $\\mathbf{C}$. Now, you might wonder how this decomposition can help us sample from a multivariate distribution.\n",
    "\n",
    "Assume $\\mathbf{x}$ is sampled from a standard multivariate normal distribution (i.e. zero mean vector, identity covariance matrix). We can now create a new random variable $\\mathbf{y}$ by transforming $\\mathbf{x}$ as follows:\n",
    "$$\\mathbf{y} =  \\mathbf{U} \\mathbf{\\Lambda}^{1/2} \\mathbf{x} + \\mathbf{\\mu}$$"
   ]
  },
  {
   "cell_type": "markdown",
   "metadata": {},
   "source": [
    "$\\textbf{C}$ – covariance matrix, decomposed as:\n",
    "\n",
    "$\\mathbf{\\Lambda}$ – diagonal matrix with **eigenvalues** (variance) of $\\textbf{C}$\n",
    "\n",
    "$\\mathbf{U}$ – orthogonal matrix with the right **eigenvectors** of $\\textbf{C}$\n",
    "\n",
    "-- --- ---\n",
    "\n",
    "$\\textbf{x}$ – multivariate random variable with zero mean & unit covariance matrix"
   ]
  },
  {
   "cell_type": "markdown",
   "metadata": {},
   "source": [
    "## ========== Question 2 ==========\n",
    "\n",
    "Assume that $\\mathbf{x}$ is a multivariate random variable with zero mean and unit covariance matrix, and $\\mathbf{C} = \\mathbf{U} \\mathbf{\\Lambda} \\mathbf{U}^T$ is the eigendecomposition of $\\mathbf{C}$.\n",
    "\n",
    "If $\\mathbf{y} =  \\mathbf{U} \\mathbf{\\Lambda}^{1/2} \\mathbf{x} + \\mathbf{\\mu}$, show that  $\\mathbf{y}$ has mean $\\mathbf{\\mu}$ and covariance $\\mathbf{C} $."
   ]
  },
  {
   "cell_type": "markdown",
   "metadata": {},
   "source": [
    "--- Your answer goes here."
   ]
  },
  {
   "cell_type": "markdown",
   "metadata": {},
   "source": [
    "Please note that the above holds without any assumptions on the probability distribution of $\\mathbf{x}$. As a special case, we focus on the multivariate normal distribution. \n",
    "\n",
    "The procedure of sampling one data point from a multivariate normal distribution with mean $\\mathbf{\\mu}$ and covariance matrix $\\mathbf{C}$ is as follows:\n",
    "\n",
    "1. Decompose the covariance matrix by using its eigendecompostion, i.e. $\\mathbf{C} = \\mathbf{U} \\mathbf{\\Lambda} \\mathbf{U}^T$\n",
    "2. Sample a data point $\\mathbf{x} \\in \\mathbb{R}^d$ from a standard normal distribution (i.e. zero mean, identity covariance matrix).\n",
    "3. Transform $\\mathbf{x}$ by using $\\mathbf{y} =  \\mathbf{U} \\mathbf{\\Lambda}^{1/2} \\mathbf{x} + \\mathbf{\\mu}$."
   ]
  },
  {
   "cell_type": "markdown",
   "metadata": {},
   "source": [
    "### ========== Question 3 ==========\n",
    "\n",
    "Write a function that generates random samples from a multivariate normal distribution with given mean vector and  covariance matrix. You should make use of the [`numpy.random.randn()`](https://docs.scipy.org/doc/numpy/reference/generated/numpy.random.randn.html) function that generates samples from a standard multivariate gaussian distribution and the eigendecomposition of the covariance matrix. For computing the eigendecomposition of a symmetric matrix you should use the [`numpy.linalg.eigh()`](https://docs.scipy.org/doc/numpy/reference/generated/numpy.linalg.eigh.html) function.\n",
    "\n",
    "**Important:**\n",
    "\n",
    "Most scientific computing packages like `scikit-learn` follow the $n \\times d$ convention for a data matrix, where $n$ is the number of samples and $d$ the dimensionality, that is, $\\mathbf{X} \\in \\mathbb{R} ^ {n \\times d}$. Please note that many textbooks and the lecture notes for this course follow reverse notation (i.e. $d \\times n$). Here, you should follow the $n \\times d$ convention. If the standard normal data are stored in a matrix $\\mathbf{X}$, then you should compute $\\mathbf{Y}$ by $$\\mathbf{Y} = \\mathbf{X} \\mathbf{\\Lambda}^{\\frac{1}{2}} \\mathbf{U}^T $$\n",
    "\n",
    "Finally, generate a 3 x 3 random covariance matrix `C` by using the `generate_positive_semi_definite()` function.  Use the function you just wrote to generate 1 million random samples with zero mean and covariance matrix `C`. Compute the empirical covariance matrix of the data (you can use [`numpy.cov()`](https://docs.scipy.org/doc/numpy/reference/generated/numpy.cov.html) by setting `rowvar=False`) and double-check that it is a good estimate of the true covariance matrix `C`.\n",
    "\n",
    "*Tip: don't get stuck on this, move on after 10 mins or so (it's not critical)*"
   ]
  },
  {
   "cell_type": "code",
   "execution_count": 5,
   "metadata": {
    "scrolled": true
   },
   "outputs": [],
   "source": [
    "def rand_sampler(C, n):\n",
    "    \"\"\"\n",
    "    Generates random samples from a multivariate normal distribution\n",
    "    given mean vector and covariance matrix.\n",
    "    \n",
    "    \"\"\"\n",
    "    \n",
    "    dim = C.shape[0]\n",
    "    \n",
    "    # decompose\n",
    "    eigenvalues, U = np.linalg.eig(C)\n",
    "    Lambda = np.eye(dim) * eigenvalues\n",
    "\n",
    "    X = np.random.randn(n, dim)        \n",
    "    Y = X.dot(np.sqrt(Lambda)).dot(U.T)\n",
    "    \n",
    "    # X (1000,3)\n",
    "    # Lambda (3,3)\n",
    "    # U (3,3)\n",
    "    \n",
    "    return(Y)\n",
    "    "
   ]
  },
  {
   "cell_type": "code",
   "execution_count": 6,
   "metadata": {},
   "outputs": [
    {
     "name": "stdout",
     "output_type": "stream",
     "text": [
      "Original covariance matrix\n",
      "[[ 1.76367057 -0.45786127 -1.89003241]\n",
      " [-0.45786127  0.8833824   0.68182324]\n",
      " [-1.89003241  0.68182324  3.38678654]]\n",
      "Emperical covariance \n",
      "[[ 1.76027037 -0.456715   -1.88447443]\n",
      " [-0.456715    0.88169513  0.67930756]\n",
      " [-1.88447443  0.67930756  3.37901395]]\n"
     ]
    }
   ],
   "source": [
    "C = generate_spsd_matrix(3)\n",
    "\n",
    "\n",
    "print(\"Original covariance matrix\")\n",
    "print(C)\n",
    "print(\"Emperical covariance \\n\" + str(np.cov(rand_sampler(C, 1000000) , rowvar=False)))\n"
   ]
  },
  {
   "cell_type": "markdown",
   "metadata": {},
   "source": [
    "### Note: numpy built-in function\n",
    "Numpy implements the [`numpy.random.multivariate_normal()`](https://docs.scipy.org/doc/numpy/reference/generated/numpy.random.multivariate_normal.html) function that can be used to generate samples from a multivariate normal distribution with given mean vector and covariance matrix. You are encouraged to use such built-in functions whenever available, as they will most likely be highly optimised, and bug-free. Nevertheless, it is some times very useful to know what these functions do under the hood."
   ]
  },
  {
   "cell_type": "markdown",
   "metadata": {},
   "source": [
    "## Covariance matrix structure"
   ]
  },
  {
   "cell_type": "markdown",
   "metadata": {},
   "source": [
    "You are provided with the following function `generate_gaussian_data()` that can be used to generate a multivariate gaussian dataset from a given mean and covariance. When the mean and covariance are not defined, they are generated at random. The `random_seed` parameter can be used to ensure reproducible results. The function returns a tuple containing three items; the dataset, the true mean, and the true covariance matrix of the probability distribution the data were sampled from. Execute the cell below to load this function."
   ]
  },
  {
   "cell_type": "code",
   "execution_count": 7,
   "metadata": {
    "scrolled": true
   },
   "outputs": [],
   "source": [
    "def generate_gaussian_data(n_samples, n_features=None, mu=None, cov=None, random_seed=None):\n",
    "    \"\"\"Generates a multivariate gaussian dataset.\n",
    "    \n",
    "    Parameters\n",
    "    ----------\n",
    "    \n",
    "    n_samples : integer\n",
    "        Number of samples.\n",
    "        \n",
    "    n_features : integer\n",
    "        Number of dimensions (features).\n",
    "        \n",
    "    mu : array, optional (default random), shape (n_features,)\n",
    "        Mean vector of normal distribution.\n",
    "        \n",
    "    cov : array, optional (default random), shape (n_features,n_features)\n",
    "        Covariance matrix of normal distribution.\n",
    "    \n",
    "    random_seed : integer\n",
    "        Random seed.\n",
    "        \n",
    "    Returns\n",
    "    -------\n",
    "    \n",
    "    x : array, shape (n_samples, n_features)\n",
    "        Data matrix arranged in rows (i.e. \n",
    "        columns correspond to features and \n",
    "        rows to observations).\n",
    "    \n",
    "    mu : array, shape (n_features,)\n",
    "        Mean vector of normal distribution.\n",
    "        \n",
    "    cov : array, shape (n_features,n_features)\n",
    "        Covariance matrix of normal distribution.\n",
    "        \n",
    "    Raises\n",
    "    ------\n",
    "    \n",
    "    ValueError when the shapes of mu and C are not compatible\n",
    "    with n_features.\n",
    "    \n",
    "    \"\"\"\n",
    "    \n",
    "    if random_seed is not None:\n",
    "        np.random.seed(random_seed)\n",
    "        \n",
    "    if mu is None:\n",
    "        mu = np.random.randn(n_features,)\n",
    "    else:\n",
    "        if n_features is None:\n",
    "            n_features = mu.shape[0]\n",
    "        else:\n",
    "            if mu.shape[0] != n_features:\n",
    "                raise ValueError(\"Shape mismatch between mean and number of features.\")\n",
    "                \n",
    "    if cov is None:\n",
    "        cov = generate_spsd_matrix(n_features, random_seed=random_seed)\n",
    "    else:\n",
    "        if (cov.shape[0] != n_features) or (cov.shape[1] != n_features):\n",
    "            raise ValueError(\"Shape mismatch between covariance and number of features.\")\n",
    "            \n",
    "    x = np.random.multivariate_normal(mu, cov, n_samples)\n",
    "    return (x, mu, cov)"
   ]
  },
  {
   "cell_type": "markdown",
   "metadata": {},
   "source": [
    "### ========== Question 4 ==========\n",
    "\n",
    "By using the function provided above, generate a 2-dimensional gaussian dataset consisting of 1000 samples. Use a zero mean and the following covariance matrix:\n",
    "\n",
    "$$ \\mathbf{C} = \\left( \\begin{array}{ccc} \n",
    "1 & 0.3 \\\\\n",
    "0.3 & 2 \\\\ \\end{array} \\right) $$\n",
    "\n",
    "Print the empirical mean, covariance and correlation matrices. You should use numpy built-in functions for this purpose, but you are also free to implement your own functions if you are keen. \n",
    "Finally, use the seaborn [`jointplot()`](http://seaborn.pydata.org/generated/seaborn.jointplot.html) function to produce a joint scatter plot of the two variables. This function also shows the marginal histograms on the top and right hand sides of the plot. Label axes appropriately. "
   ]
  },
  {
   "cell_type": "code",
   "execution_count": 8,
   "metadata": {
    "scrolled": false
   },
   "outputs": [
    {
     "name": "stdout",
     "output_type": "stream",
     "text": [
      "Emperical results: \n",
      "\n",
      "Mean \n",
      "[0.00608411 0.08073406]\n",
      "Covariance \n",
      "[[1.03038089 0.35223479]\n",
      " [0.35223479 2.03355043]]\n",
      "Correlation matrix \n",
      "[[1.         0.24333573]\n",
      " [0.24333573 1.        ]]\n"
     ]
    },
    {
     "data": {
      "text/plain": [
       "<seaborn.axisgrid.JointGrid at 0x113a82588>"
      ]
     },
     "execution_count": 8,
     "metadata": {},
     "output_type": "execute_result"
    },
    {
     "data": {
      "image/png": "[encoded data removed]",
      "text/plain": [
       "<matplotlib.figure.Figure at 0x113a825c0>"
      ]
     },
     "metadata": {},
     "output_type": "display_data"
    }
   ],
   "source": [
    "# Your code goes here\n",
    "\n",
    "C = np.array([[1, 0.3], [0.3, 2]])\n",
    "mu = np.array([0,0])\n",
    "\n",
    "x, true_mu, true_cov = generate_gaussian_data(1000, n_features=2, mu=mu, cov=C)\n",
    "\n",
    "emperical_mu = np.mean(x,axis=0)\n",
    "emperical_cov = np.cov(x, rowvar=False)\n",
    "emperical_corr = np.corrcoef(x[:,0], x[:,1])\n",
    "\n",
    "print(\"Emperical results: \\n\")\n",
    "print(\"Mean \\n\" + str(emperical_mu))\n",
    "print(\"Covariance \\n\" + str(emperical_cov))\n",
    "print(\"Correlation matrix \\n\" + str(emperical_corr))\n",
    "\n",
    "sns.jointplot(x[:,0], x[:,1]).set_axis_labels(\"Col 1\", \"Col 2\")\n"
   ]
  },
  {
   "cell_type": "markdown",
   "metadata": {},
   "source": [
    "### ========== Question 5 ==========\n",
    "\n",
    "Repeat the same procedure as above, but now modify the covariance matrix such that the **true correlation ceofficient** between the two variables is 0.6 while the variances stay unchanged. \n",
    "\n",
    "Visualise the `jointplot()` of the new dataset and compare to the one from the previous question. Do your observations agree with the modification you just applied to the covariance matrix?"
   ]
  },
  {
   "cell_type": "code",
   "execution_count": 9,
   "metadata": {
    "scrolled": true
   },
   "outputs": [
    {
     "name": "stdout",
     "output_type": "stream",
     "text": [
      "Emperical results: \n",
      "\n",
      "Mean \n",
      "[-0.00415042  0.01175508]\n",
      "Covariance \n",
      "[[0.9910669  0.85967322]\n",
      " [0.85967322 2.0528699 ]]\n",
      "Correlation matrix \n",
      "[[1.         0.60270001]\n",
      " [0.60270001 1.        ]]\n"
     ]
    },
    {
     "data": {
      "text/plain": [
       "<seaborn.axisgrid.JointGrid at 0x119b9ae80>"
      ]
     },
     "execution_count": 9,
     "metadata": {},
     "output_type": "execute_result"
    },
    {
     "data": {
      "image/png": "[encoded data removed]",
      "text/plain": [
       "<matplotlib.figure.Figure at 0x119b9a908>"
      ]
     },
     "metadata": {},
     "output_type": "display_data"
    }
   ],
   "source": [
    "# Your code goes here\n",
    "\n",
    "C = np.array([[1, 0.6*np.sqrt(2)], [0.6*np.sqrt(2), 2]])\n",
    "mu = np.array([0,0])\n",
    "\n",
    "x, true_mu, true_cov = generate_gaussian_data(1000, n_features=2, mu=mu, cov=C)\n",
    "\n",
    "emperical_mu = np.mean(x,axis=0)\n",
    "emperical_cov = np.cov(x, rowvar=False)\n",
    "emperical_corr = np.corrcoef(x[:,0], x[:,1])\n",
    "\n",
    "print(\"Emperical results: \\n\")\n",
    "print(\"Mean \\n\" + str(emperical_mu))\n",
    "print(\"Covariance \\n\" + str(emperical_cov))\n",
    "print(\"Correlation matrix \\n\" + str(emperical_corr))\n",
    "\n",
    "sns.jointplot(x[:,0], x[:,1]).set_axis_labels(\"Col 1\", \"Col 2\")\n"
   ]
  },
  {
   "cell_type": "markdown",
   "metadata": {},
   "source": [
    "## Principal component analysis (PCA)\n",
    "\n",
    "Let us now dive into PCA. "
   ]
  },
  {
   "cell_type": "markdown",
   "metadata": {},
   "source": [
    "For this section, we will use a 3-dimensional Gaussian dataset. Execute the cell below to generate the dataset and print the true mean and covariance matrix of the distribution the data was sampled from."
   ]
  },
  {
   "cell_type": "code",
   "execution_count": 10,
   "metadata": {
    "scrolled": true
   },
   "outputs": [
    {
     "name": "stdout",
     "output_type": "stream",
     "text": [
      "Dataset consists of 1000 samples and 3 features.\n",
      "True mean:\n",
      "[ 1.3315865   0.71527897 -1.54540029]\n",
      "True covariance matrix:\n",
      "[[ 1.84368931  0.97606753 -2.05065766]\n",
      " [ 0.97606753  0.90946519 -1.55234157]\n",
      " [-2.05065766 -1.55234157  2.90680369]]\n"
     ]
    }
   ],
   "source": [
    "# Generates a 3D dataset and prints true mean and covariance\n",
    "x_3d, mu_true, C_true = generate_gaussian_data(n_samples=1000, n_features=3, random_seed=10)\n",
    "print(\"Dataset consists of {} samples and {} features.\".format(x_3d.shape[0], x_3d.shape[1]))\n",
    "print(\"True mean:\\n{}\".format(mu_true))\n",
    "print(\"True covariance matrix:\\n{}\".format(C_true))"
   ]
  },
  {
   "cell_type": "markdown",
   "metadata": {},
   "source": [
    "### ========== Question 6 ==========\n",
    "\n",
    "Estimate the empirical mean and covariance matrix from this dataset and save them in variables `mu_est` and `C_est` respectively. "
   ]
  },
  {
   "cell_type": "code",
   "execution_count": 11,
   "metadata": {
    "scrolled": true
   },
   "outputs": [
    {
     "name": "stdout",
     "output_type": "stream",
     "text": [
      "Emperical mean:\n",
      "[ 1.363671    0.73019504 -1.58756481]\n",
      "Emperical covariance matrix:\n",
      "[[ 1.7849728   0.90843537 -1.93779655]\n",
      " [ 0.90843537  0.85144439 -1.44450311]\n",
      " [-1.93779655 -1.44450311  2.70942614]]\n"
     ]
    }
   ],
   "source": [
    "# Your code goes here\n",
    "\n",
    "mu_est = np.mean(x_3d, axis=0)\n",
    "C_est = np.cov(x_3d, rowvar=False)\n",
    "print(\"Emperical mean:\\n{}\".format(mu_est))\n",
    "print(\"Emperical covariance matrix:\\n{}\".format(C_est))"
   ]
  },
  {
   "cell_type": "markdown",
   "metadata": {},
   "source": [
    "### PCA sklearn implementation\n",
    "\n",
    "Sklearn offers a class implementation of `pca`. Please spend a minute to read the [documentation](http://scikit-learn.org/stable/modules/generated/sklearn.decomposition.PCA.html) of this class. The principal component (PC) directions of a dataset are computed by using the [`fit()`](http://scikit-learn.org/stable/modules/generated/sklearn.decomposition.PCA.html#sklearn.decomposition.PCA.fit) method and stored into the `components_` attribute. The PC scores can be computed by using the [`transform()`](http://scikit-learn.org/stable/modules/generated/sklearn.decomposition.PCA.html#sklearn.decomposition.PCA.transform) method. The amount of variance explained by each of the selected components is stored into the `explained_variance_` attribute. \n",
    "\n",
    "Please note, this method centers the input data (i.e. removes the mean) before computing the PC directions.\n"
   ]
  },
  {
   "cell_type": "markdown",
   "metadata": {},
   "source": [
    "### ========== Question 7 ==========\n",
    "\n",
    "Initialise a `pca` object and \"fit\" it using the dataset `x_3d`. Print the three PC directions. Store the PC scores for `x_3d` in an array called `pc_scores`.\n",
    "\n",
    "*Hint: according to the documentation the components are stored row-wise, i.e. the `components_ array` has shape `[n_components, n_features]`. You should print the PC directions column-wise, i.e. take the transpose of the `components_` array.*"
   ]
  },
  {
   "cell_type": "code",
   "execution_count": 12,
   "metadata": {
    "scrolled": true
   },
   "outputs": [
    {
     "name": "stdout",
     "output_type": "stream",
     "text": [
      "The 3 PC directions (the components appear column-wise) \n",
      " [[-0.56052625 -0.78030784  0.27736257]\n",
      " [-0.38349242  0.54142509  0.74819278]\n",
      " [ 0.73399174 -0.31301525  0.60272512]] \n",
      "\n",
      "Amount of exaplined variance by each PC \n",
      " [4.94397694 0.37731095 0.02455544] \n",
      "\n",
      "PC scores \n",
      " [[-0.34835537 -0.25572171  0.20202817]\n",
      " [-2.1642542  -0.60471779  0.04453689]\n",
      " [ 1.08163972  0.68938103  0.0230694 ]\n",
      " ...\n",
      " [ 0.61803508  1.06416972  0.05518647]\n",
      " [ 1.75112399  0.29607637 -0.43441915]\n",
      " [ 0.92571975 -0.28384395  0.09541068]]\n"
     ]
    }
   ],
   "source": [
    "# Your code goes here\n",
    "\n",
    "pca = PCA()\n",
    "pca.fit(x_3d)\n",
    "\n",
    "pc_directions = pca.components_.T\n",
    "pc_scores = pca.transform(x_3d)\n",
    "explained_var = pca.explained_variance_\n",
    "print(\"The 3 PC directions (the components appear column-wise) \\n {0} \\n\".format(pc_directions))\n",
    "print(\"Amount of exaplined variance by each PC \\n {0} \\n\".format(explained_var))\n",
    "print(\"PC scores \\n {0}\".format(pc_scores))"
   ]
  },
  {
   "cell_type": "markdown",
   "metadata": {},
   "source": [
    "Most often, we do not want to compute all PC directions, but only a few (i.e. dimensionality reduction). We can define the desired number of PCs by setting the [`n_components`]() parameter appropriately when we initialise the `pca` object. "
   ]
  },
  {
   "cell_type": "markdown",
   "metadata": {},
   "source": [
    "### ========== Question 8 ==========\n",
    "\n",
    "Initialise a `pca_new` object with 2 PCs and \"fit\" it using the dataset `x_3d`. Print the two PC directions. \n",
    "\n",
    "*Hint: the 2 PC directions should be the same as the first 2 directions you computed in the previous question. The reason for this is ultimately that PCA by sequential and simultaneous variance maximisation give the same result.*"
   ]
  },
  {
   "cell_type": "code",
   "execution_count": 13,
   "metadata": {
    "scrolled": true
   },
   "outputs": [
    {
     "data": {
      "text/plain": [
       "array([[-0.56052625, -0.78030784],\n",
       "       [-0.38349242,  0.54142509],\n",
       "       [ 0.73399174, -0.31301525]])"
      ]
     },
     "execution_count": 13,
     "metadata": {},
     "output_type": "execute_result"
    }
   ],
   "source": [
    "# Your code goes here\n",
    "\n",
    "pca_new = PCA(n_components=2)\n",
    "pca_new.fit(x_3d)\n",
    "\n",
    "pca_new.components_.T"
   ]
  },
  {
   "cell_type": "markdown",
   "metadata": {},
   "source": [
    "### PCA implementation #1: covariance matrix eigendecomposition\n",
    "\n",
    "Now we want to implement PCA from scratch. The procedure can be summarised as follows:\n",
    "\n",
    "1. Center the data (i.e. remove the mean).\n",
    "2. Compute the empirical covariance matrix.\n",
    "3. Perform the eigendecomposition of the estimated covariance matrix.\n",
    "4. Sort eigenvalues and associated eigenvectors, in eigenvalue descending order. The sorted eigenvectors correspond to the PC directions. If we want to reduce the dimensionality, we select the first `k` eigenvectors corresponding to the `k` largest eigenvalues (`k` < `d`).\n",
    "5. To compute PC scores we project the centered data matrix (i.e. matrix product) onto the PC directions.\n",
    "\n",
    "(Regarding 3 and 4: some algorithms for eigendecompositions allow you to specify the number of eigenvectors and eigenvalues that should be computed. You then do not have to compute the complete eigendecomposition, which is wasteful if you are only interested in a few principle components.)\n",
    "\n",
    "### ========== Question 9 ==========\n",
    "\n",
    "Compute and print all three PC directions in the dataset `x_3d` by using the procedure described above. Hopefully, you will have already performed the first two steps in question 6. Then compute the PC scores for the centered data matrix.\n",
    "\n",
    "As happens very often when writing code, it is likely that there will be a few bugs in your implementation. To double-check that your code is correct, compare the computed PC directions and scores to the ones achieved in question 7 with scikit-learn.\n",
    "\n",
    "*Hint: you might (or might not) find that some of the PC directions/scores you have computed have opposite signs to the ones returned by the sklearn implementation. Do not worry about this, the two solutions are equivalent (why?). To make debugging easier, you are provided with the following function, `solutions_equivalent()` which tests wether two solutions are equivalent, regardless of their signs. Execute the following cell to load this function.*"
   ]
  },
  {
   "cell_type": "code",
   "execution_count": 14,
   "metadata": {
    "scrolled": true
   },
   "outputs": [],
   "source": [
    "def solutions_equivalent(b1, b2):\n",
    "    \"\"\"Checks whether two PC directions/scores\n",
    "    solutions are equivalent regardless of their .\n",
    "    respective signs.\n",
    "    \n",
    "    Parameters\n",
    "    ----------\n",
    "    \n",
    "    s1 : array, shape(n_axes,)\n",
    "        First solution.\n",
    "        \n",
    "    s2 : array, shape(n_axes,)\n",
    "        Second solution.\n",
    "        \n",
    "    Returns\n",
    "    -------\n",
    "    \n",
    "    True if solutions are equivalent.\n",
    "    \n",
    "    Raises\n",
    "    ------\n",
    "    \n",
    "    ValueError if the two bases do not have\n",
    "    the same dimensionality.\n",
    "    \n",
    "    \"\"\"\n",
    "    \n",
    "    s1 = np.asarray(b1)\n",
    "    s2 = np.asarray(b2)\n",
    "    \n",
    "    if s1.shape != s2.shape:\n",
    "        raise ValueError(\"Solutions must have the same dimensionality.\")\n",
    "    \n",
    "    dims_equal = []\n",
    "    for dim in xrange(s1.shape[1]):\n",
    "        if (np.allclose(s1[:,dim],s2[:,dim]) or np.allclose(s1[:,dim],-s2[:,dim])):\n",
    "            dims_equal.append(True)\n",
    "        else:\n",
    "            dims_equal.append(False)\n",
    "    return all(element for element in dims_equal)"
   ]
  },
  {
   "cell_type": "code",
   "execution_count": 15,
   "metadata": {
    "scrolled": true
   },
   "outputs": [],
   "source": [
    "# Your code goes here\n",
    "\n",
    "x_3d_zero_mean = x_3d - np.mean(x_3d, axis=0)\n",
    "x_3d_C = np.cov(x_3d_zero_mean, rowvar=False)\n",
    "\n",
    "# Eigendecomposition\n",
    "eigenvalues, eigenvectors = np.linalg.eigh(x_3d_C)\n",
    "eigenvectors = np.flip(eigenvectors,axis=1)\n",
    "eigenvalues = np.flip(eigenvalues, axis=0)"
   ]
  },
  {
   "cell_type": "code",
   "execution_count": 16,
   "metadata": {},
   "outputs": [
    {
     "name": "stdout",
     "output_type": "stream",
     "text": [
      "Eigenvectors \n",
      " [[-0.56052625 -0.78030784  0.27736257]\n",
      " [-0.38349242  0.54142509  0.74819278]\n",
      " [ 0.73399174 -0.31301525  0.60272512]]\n",
      "PC scores \n",
      " [[-0.34835537 -0.25572171  0.20202817]\n",
      " [-2.1642542  -0.60471779  0.04453689]\n",
      " [ 1.08163972  0.68938103  0.0230694 ]\n",
      " ...\n",
      " [ 0.61803508  1.06416972  0.05518647]\n",
      " [ 1.75112399  0.29607637 -0.43441915]\n",
      " [ 0.92571975 -0.28384395  0.09541068]]\n"
     ]
    }
   ],
   "source": [
    "print(\"Eigenvectors \\n {}\".format(eigenvectors))\n",
    "print(\"PC scores \\n {0}\".format(x_3d_zero_mean.dot(eigenvectors)))"
   ]
  },
  {
   "cell_type": "markdown",
   "metadata": {},
   "source": [
    "### PCA implementation #2: data matrix singular value decomposition (SVD)\n",
    "\n",
    "### ========== Question 10 ==========\n",
    "\n",
    "The SVD decomposition of the centered data matrix is: $$\\mathbf{X} =  \\mathbf{V} \\mathbf{S} \\mathbf{U}^T  $$ where the columns $\\mathbf{V} \\in \\mathbb{R}^{n\\times n}$ and $\\mathbf{U} \\in \\mathbb{R}^{d\\times d}$ contain the left- and right-singular vectors of $\\mathbf{X}$, and $\\mathbf{S} \\in \\mathbb{R}^{n\\times d}$ is a diagonal matrix containing its singular values.\n",
    "\n",
    "Compute the PC directions and scores in the dataset `x_3d` by using the [SVD](https://docs.scipy.org/doc/numpy/reference/generated/numpy.linalg.svd.html) decomposition of the centered data matrix (cf. lecture notes). Double-check that these are correct by using the `solutions_equivalent()` function.\n",
    "\n",
    "*Hint 1: make sure you center the data before computing the SVD of `x_3d`.*\n",
    "\n",
    "*Hint 2: Remember, we are dealing with `n` x `d` data matrices here, as opposed to `d` x `n` matrices in the lecture notes (that is why we have written $\\mathbf{X} =  \\mathbf{V} \\mathbf{S} \\mathbf{U}^T$ as opposed to $\\mathbf{X} =  \\mathbf{U} \\mathbf{S} \\mathbf{V}^T$ in the lecture notes). Which singular vectors of the centered data matrix correspond to the PC directions/scores in this case?*"
   ]
  },
  {
   "cell_type": "code",
   "execution_count": 57,
   "metadata": {
    "scrolled": true
   },
   "outputs": [
    {
     "name": "stdout",
     "output_type": "stream",
     "text": [
      "The 3 PC directions \n",
      " [[-0.56052625  0.78030784 -0.27736257]\n",
      " [-0.38349242 -0.54142509 -0.74819278]\n",
      " [ 0.73399174  0.31301525 -0.60272512]] \n",
      "\n",
      "PC scores \n",
      " [[-0.34835537  0.25572171 -0.20202817]\n",
      " [-2.1642542   0.60471779 -0.04453689]\n",
      " [ 1.08163972 -0.68938103 -0.0230694 ]\n",
      " ...\n",
      " [ 0.61803508 -1.06416972 -0.05518647]\n",
      " [ 1.75112399 -0.29607637  0.43441915]\n",
      " [ 0.92571975  0.28384395 -0.09541068]]\n"
     ]
    }
   ],
   "source": [
    "# Your code goes here\n",
    "\n",
    "# https://stats.stackexchange.com/questions/134282/relationship-between-svd-and-pca-how-to-use-svd-to-perform-pca\n",
    "\n",
    "U,S,V = np.linalg.svd(x_3d_zero_mean, full_matrices=False) # V and U are swaped compared to \n",
    "# the NumPy documentation. This takes care of the nxd <-> dxn swapping\n",
    "\n",
    "print(\"The 3 PC directions \\n {} \\n\".format(V.T))\n",
    "print(\"PC scores \\n {0}\".format(U.dot(np.diag(S)))) # US = USV.T = XV\n",
    "\n",
    "# Note that U*S is equivalent to U.dot(np.diag(S))"
   ]
  },
  {
   "cell_type": "code",
   "execution_count": 46,
   "metadata": {},
   "outputs": [
    {
     "data": {
      "text/plain": [
       "array([[ 0.45083904,  0.14629351, -0.05387772],\n",
       "       [ 1.69734019,  0.53588789, -1.37241532],\n",
       "       [-1.1378183 , -0.02429209,  0.59203236],\n",
       "       ...,\n",
       "       [-1.1614982 ,  0.38044653,  0.15379356],\n",
       "       [-1.33307329, -0.83626888,  0.93079879],\n",
       "       [-0.27094121, -0.43730117,  0.82582456]])"
      ]
     },
     "execution_count": 46,
     "metadata": {},
     "output_type": "execute_result"
    }
   ],
   "source": [
    "# Reconstruction\n",
    "U.dot(np.diag(S)).dot(V) # U.shape (1000,3) # S.shape (3,) # V.shape (3,3)"
   ]
  },
  {
   "cell_type": "code",
   "execution_count": 40,
   "metadata": {},
   "outputs": [
    {
     "data": {
      "text/plain": [
       "array([[ 0.45083904,  0.14629351, -0.05387772],\n",
       "       [ 1.69734019,  0.53588789, -1.37241532],\n",
       "       [-1.1378183 , -0.02429209,  0.59203236],\n",
       "       ...,\n",
       "       [-1.1614982 ,  0.38044653,  0.15379356],\n",
       "       [-1.33307329, -0.83626888,  0.93079879],\n",
       "       [-0.27094121, -0.43730117,  0.82582456]])"
      ]
     },
     "execution_count": 40,
     "metadata": {},
     "output_type": "execute_result"
    }
   ],
   "source": [
    "x_3d_zero_mean"
   ]
  },
  {
   "cell_type": "markdown",
   "metadata": {},
   "source": [
    "Assume now that you want to do dimensionality reduction by using `k` PCs only. One option would be to follow the same procedure as above and discard the last `d-k` PC directions. This, however, can be rather wasteful. There exist [SVD variations](https://en.wikipedia.org/wiki/Low-rank_approximation) that approximate the matrix $\\mathbf{X}$ with a low-rank matrix. \n",
    "\n",
    "Scipy implements the function [`svds`](https://docs.scipy.org/doc/scipy/reference/generated/scipy.sparse.linalg.svds.html) that computes only the `k` largest singular values/vectors of a given matrix. "
   ]
  },
  {
   "cell_type": "markdown",
   "metadata": {},
   "source": [
    "### ========== Question 11 ==========\n",
    "\n",
    "Compute and print the first 2 PC directions by using the [`svds`](https://docs.scipy.org/doc/scipy/reference/generated/scipy.sparse.linalg.svds.html) decomposition of the centered data matrix.\n",
    "\n",
    "*Hint: as opposed to the numpy function `numpy.linalg.svd`, `svds` does not automatically sort the singular values/vectors in singular value descending order. You should do this operation manually.*"
   ]
  },
  {
   "cell_type": "code",
   "execution_count": null,
   "metadata": {
    "scrolled": true
   },
   "outputs": [],
   "source": [
    "from scipy.sparse.linalg import svds\n",
    "# Your code goes here\n",
    "\n",
    "U,S,V = svds(x_3d_zero_mean, k=2)\n",
    "\n",
    "print(\"The 2 PC directions \\n {} \\n\".format(V.T))\n",
    "print(\"PC scores \\n {0}\".format(U*S))"
   ]
  },
  {
   "cell_type": "markdown",
   "metadata": {},
   "source": [
    "### PCA implementation #3: Gram matrix eigendecomposition\n",
    "\n",
    "We have seen in the lectures that we can compute the PC directions and scores by performing the eigendecomposition of the [Gram matrix](https://en.wikipedia.org/wiki/Gramian_matrix) $\\mathbf{G}$.\n",
    "\n",
    "The procedure of computing the PC directions and scores based on the eigendecomposition of the Gram matrix is as follows:\n",
    "1. Center data.\n",
    "2. Compute Gram matrix.\n",
    "3. Perform the eigendecomposition of the Gram matrix.\n",
    "4. Sort eigenvalues and eigenvectors in decreasing eigenvalue order.\n",
    "5. Pick the first `k` eigenvectors. This is required even if we do not to perform dimensionality reduction, since the eigendecomposition of the Gram matrix will yield `n` eigenvectors.\n",
    "6. The PC scores are given by these eigenvectors scaled by $\\mathbf{\\Sigma} ^ {1/2}$, where $\\mathbf{\\Sigma}$ is the diagonal matrix containing the eigenvalues of the gram matrix.\n",
    "7. To get the PC directions, we project the centered data matrix onto the eigenvectors and scale by $\\mathbf{\\Sigma} ^ {-1/2}$.\n",
    "\n",
    "### ========== Question 12 ==========\n",
    "\n",
    "Compute the PC directions and scores in the dataset `x_3d` by using the eigendecomposition of the Gram matrix. Double-check that these are correct by using the `solutions_equivalent()` function."
   ]
  },
  {
   "cell_type": "code",
   "execution_count": null,
   "metadata": {
    "scrolled": true
   },
   "outputs": [],
   "source": [
    "# Your code goes here\n"
   ]
  },
  {
   "cell_type": "markdown",
   "metadata": {},
   "source": [
    "### ========== Question 13 ==========\n",
    "\n",
    "Can you think of a particular case where it would be beneficial to compute the PC scores by using the eigendecomposition of the Gram matrix, as opposed to SVD decomposition of the data matrix?"
   ]
  },
  {
   "cell_type": "markdown",
   "metadata": {},
   "source": [
    "*Your answer goes here*\n",
    "\n",
    "One particular case where we would use the eigendecomposition of the Gram matrix, is when we only have access to that matrix and not the data matrix. In this case, it is still possible to identify the PC scores and hence do dimensionality reduction, as we will see in Lab 3.\n",
    "\n",
    "In addition, by working directly with the Gram matrix, we can use the kernel trick and identify non-linear manifolds by using almost the same bit of code. This is exactly what [kernel principal component analysis (kPCA)](https://en.wikipedia.org/wiki/Kernel_principal_component_analysis) does, but more on this in the next lab."
   ]
  },
  {
   "cell_type": "markdown",
   "metadata": {},
   "source": [
    "## Dimensionality reduction with PCA\n",
    "\n",
    "PCA can be used to reduce the dimensionality of a data from $d$ to $k$.\n",
    "\n",
    "### ========== Question 14 ==========\n",
    "\n",
    "Use any implementation of PCA of your choice to project the dataset `x_3d` onto 1, 2, and 3 dimensions. This projection should just take the form $$\\mathbf{X}_{red} = \\mathbf{X} \\mathbf{W}_{1:k}$$ where $\\mathbf{X}$ is the centered data matrix and $\\mathbf{W}$ is the matrix containing the PC directions as columns. The approximation of the data by the $k$ principle components is $$\\mathbf{X}_{recon} = \\mathbf{X}_{red} \\mathbf{W}_{1:k} ^ T + \\mathbf{\\mu}$$.\n",
    "\n",
    "Plot the mean-squared-error and explained variance of the approximation as a function of the number of components used. Label axes appropriately. You should make use of the sklearn [`mean_squared_error()`](http://scikit-learn.org/stable/modules/generated/sklearn.metrics.mean_squared_error.html) and [`explained_variance_score()`](http://scikit-learn.org/stable/modules/generated/sklearn.metrics.explained_variance_score.html) metrics. For `explained_variance_score()`, you should set the `multioutput` parameter to `variance_weighted`."
   ]
  },
  {
   "cell_type": "code",
   "execution_count": null,
   "metadata": {
    "scrolled": true
   },
   "outputs": [],
   "source": [
    "# Your code goes here\n"
   ]
  },
  {
   "cell_type": "markdown",
   "metadata": {},
   "source": [
    "The black points lie on a line (the 1st PC direction). The red points lie in a 2D plane (spanned by the first two PC directions)."
   ]
  },
  {
   "cell_type": "markdown",
   "metadata": {},
   "source": [
    "### ========== Question 15 ==========\n",
    "\n",
    "How can you compute the variance explained by k principal components by only looking at the eigenvalues of the covariance matrix?"
   ]
  },
  {
   "cell_type": "markdown",
   "metadata": {},
   "source": [
    "*Your answer goes here*\n"
   ]
  },
  {
   "cell_type": "code",
   "execution_count": null,
   "metadata": {
    "scrolled": true
   },
   "outputs": [],
   "source": [
    "# Your code goes here\n"
   ]
  },
  {
   "cell_type": "markdown",
   "metadata": {},
   "source": [
    "## Low-rank SVD approximation for image compression [optional]"
   ]
  },
  {
   "cell_type": "markdown",
   "metadata": {},
   "source": [
    "In lecture, we have seen that the SVD allows us to find a low rank approximation of the data matrix. We here exemplify the low rank approximation property of the SVD on a image compression task.\n",
    "\n",
    "As you might already know, grey-scale images are represented in the digital world as 2D matrices, whose elements correspond to pixel intensities. We here approximate this matrix by a low-rank approximation through the SVD. If there are correlations between the pixels in the image (which happens to be the case for [natural images](http://www.naturalimagestatistics.net/)), then we should be able to achieve a relatively good reconstruction of the image by using only a few components.\n",
    "\n",
    "Let us first load a sample image from the scipy package:"
   ]
  },
  {
   "cell_type": "code",
   "execution_count": null,
   "metadata": {
    "scrolled": true
   },
   "outputs": [],
   "source": [
    "# Load sample image\n",
    "from scipy.misc import face\n",
    "img = face(gray=True)\n",
    "\n",
    "# Show image \n",
    "def show_img(img):\n",
    "    \"\"\"\n",
    "    Visualise the image by using the matplotlib imshow function. \n",
    "    \"\"\"\n",
    "    sns.set_style(\"white\")\n",
    "    plt.figure()\n",
    "    plt.imshow(img, cmap=plt.cm.gray)\n",
    "    plt.axis(\"off\")\n",
    "    plt.show()\n",
    "    \n",
    "show_img(img)"
   ]
  },
  {
   "cell_type": "markdown",
   "metadata": {},
   "source": [
    "### ========== Question 16 [optional] ==========\n",
    "\n",
    "Write a function image_low_rank_approx() that takes as input an image (i.e. 2-dimensional array) and an integer k and reconstructs the image by using a k-rank SVD approximation."
   ]
  },
  {
   "cell_type": "code",
   "execution_count": 200,
   "metadata": {
    "scrolled": false
   },
   "outputs": [
    {
     "name": "stdout",
     "output_type": "stream",
     "text": [
      "(768, 15)\n",
      "(15,)\n",
      "(15, 1024)\n"
     ]
    },
    {
     "data": {
      "image/png": "[encoded data removed]",
      "text/plain": [
       "<matplotlib.figure.Figure at 0x1a1e4dccc0>"
      ]
     },
     "metadata": {},
     "output_type": "display_data"
    }
   ],
   "source": [
    "# Your code goes here\n",
    "\n",
    "def image_low_rank_approx(img, k):\n",
    "    pca = PCA()\n",
    "    pca.fit(img)\n",
    "    \n",
    "    img = img - np.mean(img, axis=0)\n",
    "    U,S,V = svds(img, k)\n",
    "    \n",
    "    print(U.shape)\n",
    "    print(S.shape)\n",
    "    print(V.shape)\n",
    "    return np.dot(U*S,V)\n",
    "\n",
    "reduced_img = image_low_rank_approx(img, 15)\n",
    "\n",
    "show_img(reduced_img)"
   ]
  },
  {
   "cell_type": "code",
   "execution_count": null,
   "metadata": {},
   "outputs": [],
   "source": [
    "\n",
    "# print(\"The 2 PC directions \\n {} \\n\".format(V.T))\n",
    "# print(\"PC scores \\n {0}\".format(U*S))\n",
    "\n",
    "# pca = PCA()\n",
    "# pca.fit(img)\n",
    "\n",
    "# pc_directions = pca.components_.T\n",
    "# pc_scores = pca.transform(img)\n",
    "\n",
    "# print(\"The 3 PC directions (the components appear column-wise) \\n {0} \\n\".format(pc_directions))\n",
    "# print(\"PC scores \\n {0}\".format(pc_scores))\n",
    "\n",
    "# explained_var = pca.explained_variance_\n",
    "# print(\"Amount of exaplined variance by each PC \\n {0} \\n\".format(explained_var))"
   ]
  },
  {
   "cell_type": "markdown",
   "metadata": {},
   "source": [
    "### ========== Question 17 [optional] ==========\n",
    "Perform a low-rank approximation of the image stored in img by using a varying number of ranks (i.e. from 1 to 500) and visualise the approximation. What do you observe?"
   ]
  },
  {
   "cell_type": "code",
   "execution_count": 12,
   "metadata": {
    "scrolled": false
   },
   "outputs": [],
   "source": [
    "# Your code goes here\n"
   ]
  },
  {
   "cell_type": "markdown",
   "metadata": {},
   "source": [
    "*Your answer goes here.*\n",
    "\n"
   ]
  }
 ],
 "metadata": {
  "anaconda-cloud": {},
  "kernelspec": {
   "display_name": "Python 3",
   "language": "python",
   "name": "python3"
  },
  "language_info": {
   "codemirror_mode": {
    "name": "ipython",
    "version": 3
   },
   "file_extension": ".py",
   "mimetype": "text/x-python",
   "name": "python",
   "nbconvert_exporter": "python",
   "pygments_lexer": "ipython3",
   "version": "3.6.4"
  }
 },
 "nbformat": 4,
 "nbformat_minor": 2
}
